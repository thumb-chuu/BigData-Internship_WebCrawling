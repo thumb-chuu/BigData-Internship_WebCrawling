{
  "nbformat": 4,
  "nbformat_minor": 0,
  "metadata": {
    "colab": {
      "name": "엄지수_실습(1).ipynb",
      "provenance": [],
      "collapsed_sections": [],
      "authorship_tag": "ABX9TyMYshhqvS4oXP9Sj3hZHD4r",
      "include_colab_link": true
    },
    "kernelspec": {
      "name": "python3",
      "display_name": "Python 3"
    },
    "language_info": {
      "name": "python"
    }
  },
  "cells": [
    {
      "cell_type": "markdown",
      "metadata": {
        "id": "view-in-github",
        "colab_type": "text"
      },
      "source": [
        "<a href=\"https://colab.research.google.com/github/thumb-chuu/BigData-Internship_WebCrawling/blob/main/%EC%97%84%EC%A7%80%EC%88%98_%EC%8B%A4%EC%8A%B5(1).ipynb\" target=\"_parent\"><img src=\"https://colab.research.google.com/assets/colab-badge.svg\" alt=\"Open In Colab\"/></a>"
      ]
    },
    {
      "cell_type": "markdown",
      "source": [
        "- python_crawler_1.ipynb실습"
      ],
      "metadata": {
        "id": "GeVjAHzT4jD7"
      }
    },
    {
      "cell_type": "markdown",
      "source": [
        "- 목록 페이지에서 상세 페이지로의 링크 목록을 추출\n",
        "- 크롤링 대상 페이지 : http://www.hanbit.co.kr/store/books/new_book_list.html"
      ],
      "metadata": {
        "id": "VKBPfszr7-ti"
      }
    },
    {
      "cell_type": "code",
      "execution_count": 1,
      "metadata": {
        "colab": {
          "base_uri": "https://localhost:8080/"
        },
        "id": "z5p-NAE23gxg",
        "outputId": "a741518a-2f3a-4596-960e-e6d23c417461"
      },
      "outputs": [
        {
          "output_type": "stream",
          "name": "stdout",
          "text": [
            "Looking in indexes: https://pypi.org/simple, https://us-python.pkg.dev/colab-wheels/public/simple/\n",
            "Requirement already satisfied: cssselect in /usr/local/lib/python3.7/dist-packages (1.1.0)\n"
          ]
        }
      ],
      "source": [
        "import requests\n",
        "import lxml.html\n",
        "!pip install cssselect"
      ]
    },
    {
      "cell_type": "code",
      "source": [
        "response = requests.get('http://www.hanbit.co.kr/store/books/new_book_list.html')\n",
        "root = lxml.html.fromstring(response.content)\n",
        "for a in root.cssselect('.view_box a'):\n",
        "    url = a.get('href')\n",
        "    print(url)"
      ],
      "metadata": {
        "colab": {
          "base_uri": "https://localhost:8080/"
        },
        "id": "fFAJVHot4b9d",
        "outputId": "6f5bbde5-53ec-48c5-dd72-0e09466349a3"
      },
      "execution_count": 2,
      "outputs": [
        {
          "output_type": "stream",
          "name": "stdout",
          "text": [
            "/store/books/look.php?p_code=B3178834938\n",
            "javascript:;\n",
            "/store/books/look.php?p_code=B3178834938\n",
            "/store/books/look.php?p_code=B6084607806\n",
            "javascript:;\n",
            "/store/books/look.php?p_code=B6084607806\n",
            "/store/books/look.php?p_code=B8948111854\n",
            "javascript:;\n",
            "/store/books/look.php?p_code=B8948111854\n",
            "/store/books/look.php?p_code=B8661740335\n",
            "javascript:;\n",
            "/store/books/look.php?p_code=B8661740335\n",
            "/store/books/look.php?p_code=B1382037871\n",
            "javascript:;\n",
            "/store/books/look.php?p_code=B1382037871\n",
            "/store/books/look.php?p_code=B2847674054\n",
            "javascript:;\n",
            "/store/books/look.php?p_code=B2847674054\n",
            "/store/books/look.php?p_code=B4162156367\n",
            "/store/books/look.php?p_code=B4162156367\n",
            "/store/books/look.php?p_code=B5156679966\n",
            "/store/books/look.php?p_code=B5156679966\n",
            "/store/books/look.php?p_code=B6189263297\n",
            "/store/books/look.php?p_code=B6189263297\n",
            "/store/books/look.php?p_code=B4813114979\n",
            "javascript:;\n",
            "/store/books/look.php?p_code=B4813114979\n",
            "/store/books/look.php?p_code=B8806843023\n",
            "javascript:;\n",
            "/store/books/look.php?p_code=B8806843023\n",
            "/store/books/look.php?p_code=B2859439220\n",
            "/store/books/look.php?p_code=B2859439220\n",
            "/store/books/look.php?p_code=B1996635146\n",
            "javascript:;\n",
            "/store/books/look.php?p_code=B1996635146\n",
            "/store/books/look.php?p_code=B9063949643\n",
            "/store/books/look.php?p_code=B9063949643\n",
            "/store/books/look.php?p_code=B7400451696\n",
            "/store/books/look.php?p_code=B7400451696\n",
            "/store/books/look.php?p_code=B6129400746\n",
            "/store/books/look.php?p_code=B6129400746\n",
            "/store/books/look.php?p_code=B7738896383\n",
            "/store/books/look.php?p_code=B7738896383\n",
            "/store/books/look.php?p_code=B4354575770\n",
            "javascript:;\n",
            "/store/books/look.php?p_code=B4354575770\n",
            "/store/books/look.php?p_code=B1959656080\n",
            "/store/books/look.php?p_code=B1959656080\n",
            "/store/books/look.php?p_code=B5171715268\n",
            "/store/books/look.php?p_code=B5171715268\n"
          ]
        }
      ]
    },
    {
      "cell_type": "markdown",
      "source": [
        "- python_crawler_2.ipynb실습"
      ],
      "metadata": {
        "id": "OC0Uz5VS4ndx"
      }
    },
    {
      "cell_type": "markdown",
      "source": [
        "- \"javascript\"로 시작하는 목록 제거 필요\n",
        "- 상대 URL을 절대 URL로 변환 필요"
      ],
      "metadata": {
        "id": "1A41te0o8Nlp"
      }
    },
    {
      "cell_type": "code",
      "source": [
        "import requests\n",
        "import lxml.html\n",
        "!pip install cssselect"
      ],
      "metadata": {
        "colab": {
          "base_uri": "https://localhost:8080/"
        },
        "id": "wCWpfLVY6jv4",
        "outputId": "bb36e3c5-2a56-4684-edd7-c95d4cc27ff1"
      },
      "execution_count": 3,
      "outputs": [
        {
          "output_type": "stream",
          "name": "stdout",
          "text": [
            "Looking in indexes: https://pypi.org/simple, https://us-python.pkg.dev/colab-wheels/public/simple/\n",
            "Requirement already satisfied: cssselect in /usr/local/lib/python3.7/dist-packages (1.1.0)\n"
          ]
        }
      ]
    },
    {
      "cell_type": "code",
      "source": [
        "response = requests.get('http://www.hanbit.co.kr/store/books/new_book_list.html')\n",
        "root = lxml.html.fromstring(response.content)"
      ],
      "metadata": {
        "id": "uaDjUxc24hnk"
      },
      "execution_count": 4,
      "outputs": []
    },
    {
      "cell_type": "code",
      "source": [
        "# 모든 링크를 절대 URL로 변환\n",
        "root.make_links_absolute(response.url)\n",
        "\n",
        "# 목록에서 javascript 제거\n",
        "for a in root.cssselect('.view_box .book_tit a'):\n",
        "    url = a.get('href')\n",
        "    print(url)"
      ],
      "metadata": {
        "colab": {
          "base_uri": "https://localhost:8080/"
        },
        "id": "jtBzrzDn6fer",
        "outputId": "b47a8ea4-4283-45cc-ef35-d16e7156fef9"
      },
      "execution_count": 5,
      "outputs": [
        {
          "output_type": "stream",
          "name": "stdout",
          "text": [
            "https://www.hanbit.co.kr/store/books/look.php?p_code=B3178834938\n",
            "https://www.hanbit.co.kr/store/books/look.php?p_code=B6084607806\n",
            "https://www.hanbit.co.kr/store/books/look.php?p_code=B8948111854\n",
            "https://www.hanbit.co.kr/store/books/look.php?p_code=B8661740335\n",
            "https://www.hanbit.co.kr/store/books/look.php?p_code=B1382037871\n",
            "https://www.hanbit.co.kr/store/books/look.php?p_code=B2847674054\n",
            "https://www.hanbit.co.kr/store/books/look.php?p_code=B4162156367\n",
            "https://www.hanbit.co.kr/store/books/look.php?p_code=B5156679966\n",
            "https://www.hanbit.co.kr/store/books/look.php?p_code=B6189263297\n",
            "https://www.hanbit.co.kr/store/books/look.php?p_code=B4813114979\n",
            "https://www.hanbit.co.kr/store/books/look.php?p_code=B8806843023\n",
            "https://www.hanbit.co.kr/store/books/look.php?p_code=B2859439220\n",
            "https://www.hanbit.co.kr/store/books/look.php?p_code=B1996635146\n",
            "https://www.hanbit.co.kr/store/books/look.php?p_code=B9063949643\n",
            "https://www.hanbit.co.kr/store/books/look.php?p_code=B7400451696\n",
            "https://www.hanbit.co.kr/store/books/look.php?p_code=B6129400746\n",
            "https://www.hanbit.co.kr/store/books/look.php?p_code=B7738896383\n",
            "https://www.hanbit.co.kr/store/books/look.php?p_code=B4354575770\n",
            "https://www.hanbit.co.kr/store/books/look.php?p_code=B1959656080\n",
            "https://www.hanbit.co.kr/store/books/look.php?p_code=B5171715268\n"
          ]
        }
      ]
    },
    {
      "cell_type": "code",
      "source": [
        ""
      ],
      "metadata": {
        "id": "KjVHdWmX6g_p"
      },
      "execution_count": null,
      "outputs": []
    }
  ]
}