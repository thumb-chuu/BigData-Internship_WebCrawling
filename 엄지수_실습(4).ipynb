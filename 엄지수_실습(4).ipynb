{
  "nbformat": 4,
  "nbformat_minor": 0,
  "metadata": {
    "colab": {
      "name": "엄지수_실습(4).ipynb",
      "provenance": [],
      "collapsed_sections": [],
      "authorship_tag": "ABX9TyOYVeyT9gG6OL51WwCeYcDS",
      "include_colab_link": true
    },
    "kernelspec": {
      "name": "python3",
      "display_name": "Python 3"
    },
    "language_info": {
      "name": "python"
    }
  },
  "cells": [
    {
      "cell_type": "markdown",
      "metadata": {
        "id": "view-in-github",
        "colab_type": "text"
      },
      "source": [
        "<a href=\"https://colab.research.google.com/github/thumb-chuu/BigData-Internship_WebCrawling/blob/main/%EC%97%84%EC%A7%80%EC%88%98_%EC%8B%A4%EC%8A%B5(4).ipynb\" target=\"_parent\"><img src=\"https://colab.research.google.com/assets/colab-badge.svg\" alt=\"Open In Colab\"/></a>"
      ]
    },
    {
      "cell_type": "markdown",
      "source": [
        "- save_csv.ipynb 실습"
      ],
      "metadata": {
        "id": "VrZxppxSy2yg"
      }
    },
    {
      "cell_type": "code",
      "execution_count": 1,
      "metadata": {
        "id": "EvhQsB1fyBmx"
      },
      "outputs": [],
      "source": [
        "import csv"
      ]
    },
    {
      "cell_type": "code",
      "source": [
        "# file open, newline=''으로 개행문자 지정\n",
        "with open('top_cities.csv', 'w', newline='') as f:\n",
        "    # csv.writer는 파일 객체를 매개변수로 지정\n",
        "    writer = csv.writer(f)  \n",
        "    # 첫 번째 줄에는 헤더를 작성합니다.\n",
        "    writer.writerow(['rank', 'city', 'population'])  \n",
        "    # writerows()에 리스트를 전달하면 여러 개의 값을 출력\n",
        "    writer.writerows([\n",
        "        [1, '상하이', 24150000],\n",
        "        [2, '카라치', 23500000],\n",
        "        [3, '베이징', 21516000],\n",
        "        [4, '텐진', 14722100],\n",
        "        [5, '이스탄불', 14160467],\n",
        "    ])"
      ],
      "metadata": {
        "id": "uZgYmlbIyF0w"
      },
      "execution_count": 2,
      "outputs": []
    },
    {
      "cell_type": "markdown",
      "source": [
        "- save_csv_dict.ipynb 실습"
      ],
      "metadata": {
        "id": "-eZXhgmXy5he"
      }
    },
    {
      "cell_type": "code",
      "source": [
        "import csv"
      ],
      "metadata": {
        "id": "zxM9NWN9yQet"
      },
      "execution_count": 3,
      "outputs": []
    },
    {
      "cell_type": "code",
      "source": [
        "with open('top_cities.csv', 'w', newline='') as f:\n",
        "    # 첫 번째 매개변수에 파일 객체\n",
        "    # 두 번째 매개변수에 필드명 리스트를 지정\n",
        "    writer = csv.DictWriter(f, ['rank', 'city', 'population'])\n",
        "      # 첫 번째 줄에 헤더를 입력\n",
        "    writer.writeheader()\n",
        "    # writerows()로 여러 개의 데이터를 딕셔너리 형태로 작성\n",
        "    writer.writerows([\n",
        "        {'rank': 1, 'city': '상하이', 'population': 24150000},\n",
        "        {'rank': 2, 'city': '카라치', 'population': 23500000},\n",
        "        {'rank': 3, 'city': '베이징', 'population': 21516000},\n",
        "        {'rank': 4, 'city': '텐진', 'population': 14722100},\n",
        "        {'rank': 5, 'city': '이스탄불', 'population': 14160467},\n",
        "    ])"
      ],
      "metadata": {
        "id": "MQQfewUTySzO"
      },
      "execution_count": 4,
      "outputs": []
    },
    {
      "cell_type": "markdown",
      "source": [
        "- encoding_check.ipynb 실습"
      ],
      "metadata": {
        "id": "kHkI1cy7y9qu"
      }
    },
    {
      "cell_type": "code",
      "source": [
        "import csv"
      ],
      "metadata": {
        "id": "1Ob1WkDMyWre"
      },
      "execution_count": 5,
      "outputs": []
    },
    {
      "cell_type": "code",
      "source": [
        "with open('top_cities.csv', 'w', newline='', encoding='utf-8') as f:\n",
        "    # 첫 번째 매개변수에 파일 객체\n",
        "    # 두 번째 매개변수에 필드명 리스트를 지정\n",
        "    writer = csv.DictWriter(f, ['rank', 'city', 'population'])\n",
        "      # 첫 번째 줄에 헤더를 입력\n",
        "    writer.writeheader()\n",
        "    # writerows()로 여러 개의 데이터를 딕셔너리 형태로 작성\n",
        "    writer.writerows([\n",
        "        {'rank': 1, 'city': '상하이', 'population': 24150000},\n",
        "        {'rank': 2, 'city': '카라치', 'population': 23500000},\n",
        "        {'rank': 3, 'city': '베이징', 'population': 21516000},\n",
        "        {'rank': 4, 'city': '텐진', 'population': 14722100},\n",
        "        {'rank': 5, 'city': '이스탄불', 'population': 14160467},\n",
        "    ])"
      ],
      "metadata": {
        "id": "_yRn5KEgybbu"
      },
      "execution_count": 6,
      "outputs": []
    },
    {
      "cell_type": "code",
      "source": [
        "import chardet"
      ],
      "metadata": {
        "id": "C7jLOQsWyceH"
      },
      "execution_count": 7,
      "outputs": []
    },
    {
      "cell_type": "code",
      "source": [
        "char_dic = chardet.detect(open('top_cities.csv', 'rb').read())"
      ],
      "metadata": {
        "id": "ChHwpw32yfQP"
      },
      "execution_count": 8,
      "outputs": []
    },
    {
      "cell_type": "code",
      "source": [
        "char_dic['encoding']"
      ],
      "metadata": {
        "colab": {
          "base_uri": "https://localhost:8080/",
          "height": 35
        },
        "id": "g3cq1TKLyghV",
        "outputId": "3c52f7d3-8247-447c-ea7d-aa0eb4f6b4a8"
      },
      "execution_count": 9,
      "outputs": [
        {
          "output_type": "execute_result",
          "data": {
            "text/plain": [
              "'utf-8'"
            ],
            "application/vnd.google.colaboratory.intrinsic+json": {
              "type": "string"
            }
          },
          "metadata": {},
          "execution_count": 9
        }
      ]
    },
    {
      "cell_type": "markdown",
      "source": [
        "- save_json.ipynb 실습"
      ],
      "metadata": {
        "id": "vd5dktp2zAcm"
      }
    },
    {
      "cell_type": "code",
      "source": [
        "import json"
      ],
      "metadata": {
        "id": "IjfFnkWuyhoB"
      },
      "execution_count": 10,
      "outputs": []
    },
    {
      "cell_type": "code",
      "source": [
        "cities = [ \n",
        "{'rank': 1, 'city':'상하이', 'population': 24150000},\n",
        "{'rank': 2, 'city':'카라치', 'population': 23500000},\n",
        "{'rank': 3, 'city':'베이징', 'population': 21516000},\n",
        "{'rank': 4, 'city':'텐진', 'population': 14722100}, \n",
        "{'rank': 5, 'city':'이스탄불', 'population':14160467},\n",
        "]"
      ],
      "metadata": {
        "id": "-qqFfXmoymOe"
      },
      "execution_count": 11,
      "outputs": []
    },
    {
      "cell_type": "code",
      "source": [
        "with open('top_cities.json', 'w') as fw:\n",
        "    json.dump(cities, fw)"
      ],
      "metadata": {
        "id": "NXOruyT9yoYn"
      },
      "execution_count": 12,
      "outputs": []
    },
    {
      "cell_type": "code",
      "source": [
        "with open('top_cities.json', 'r') as fr:\n",
        "    json_file = json.load(fr)\n",
        "    print(json_file)"
      ],
      "metadata": {
        "colab": {
          "base_uri": "https://localhost:8080/"
        },
        "id": "XH0JlebhyqCW",
        "outputId": "d4f0e36a-42a3-49ae-aa02-063daaef115b"
      },
      "execution_count": 13,
      "outputs": [
        {
          "output_type": "stream",
          "name": "stdout",
          "text": [
            "[{'rank': 1, 'city': '상하이', 'population': 24150000}, {'rank': 2, 'city': '카라치', 'population': 23500000}, {'rank': 3, 'city': '베이징', 'population': 21516000}, {'rank': 4, 'city': '텐진', 'population': 14722100}, {'rank': 5, 'city': '이스탄불', 'population': 14160467}]\n"
          ]
        }
      ]
    },
    {
      "cell_type": "markdown",
      "source": [
        "- save_sqlite3.ipynb 실습"
      ],
      "metadata": {
        "id": "aBcAwISvzDkW"
      }
    },
    {
      "cell_type": "code",
      "source": [
        "import pandas as pd\n",
        "import sqlite3\n",
        "from pandas.io import sql\n",
        "import os"
      ],
      "metadata": {
        "id": "q_1SZ3NxytqX"
      },
      "execution_count": 14,
      "outputs": []
    },
    {
      "cell_type": "code",
      "source": [
        "DB_NAME = 'top_cities.db'\n",
        "TABLE_NAME = 'TOP_CITIES'"
      ],
      "metadata": {
        "id": "rTd94Bluyv9R"
      },
      "execution_count": 15,
      "outputs": []
    },
    {
      "cell_type": "code",
      "source": [
        "def db_save(df, db_name, table_name):\n",
        "    with sqlite3.connect(db_name) as con:\n",
        "        try:\n",
        "            df.to_sql(name = table_name, con = con, index = False, if_exists='append')\n",
        "            #if_exists : {'fail', 'replace', 'zppend'} default : fail\n",
        "        except Exception as e:\n",
        "            print(str(e))\n",
        "        print(len(df), '건 저장완료..')"
      ],
      "metadata": {
        "id": "4Pd3ZbfKyxp2"
      },
      "execution_count": 16,
      "outputs": []
    },
    {
      "cell_type": "code",
      "source": [
        "def db_select(df, db_name, table_name):\n",
        "    with sqlite3.connect(db_name) as con:\n",
        "        try:\n",
        "            query = 'SELECT * FROM {}'.format(table_name)\n",
        "            df = pd.read_sql(query, con = con)\n",
        "        except Exception as e:\n",
        "            print(str(e))\n",
        "            return df"
      ],
      "metadata": {
        "id": "fK26wNfGyzan"
      },
      "execution_count": 17,
      "outputs": []
    },
    {
      "cell_type": "code",
      "source": [
        "def db_select(df, db_name, table_name):\n",
        "    with sqlite3.connect(db_name) as con:\n",
        "        try:\n",
        "            cur = con.cursor()\n",
        "            sql = 'DELETE FROM {}'.format(table_name)\n",
        "            cur.excute(sql)\n",
        "        except Exception as e:\n",
        "            print(str(e))"
      ],
      "metadata": {
        "id": "o-aIBC94y1Ee"
      },
      "execution_count": 18,
      "outputs": []
    }
  ]
}