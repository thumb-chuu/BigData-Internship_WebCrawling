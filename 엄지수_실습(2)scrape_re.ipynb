{
  "cells": [
    {
      "cell_type": "markdown",
      "metadata": {
        "id": "view-in-github",
        "colab_type": "text"
      },
      "source": [
        "<a href=\"https://colab.research.google.com/github/thumb-chuu/BigData-Internship_WebCrawling/blob/main/%EC%97%84%EC%A7%80%EC%88%98_%EC%8B%A4%EC%8A%B5(2)scrape_re.ipynb\" target=\"_parent\"><img src=\"https://colab.research.google.com/assets/colab-badge.svg\" alt=\"Open In Colab\"/></a>"
      ]
    },
    {
      "cell_type": "code",
      "execution_count": 1,
      "metadata": {
        "id": "cf4KHjaUF2ZF"
      },
      "outputs": [],
      "source": [
        "import re\n",
        "from html import unescape"
      ]
    },
    {
      "cell_type": "code",
      "source": [
        "from google.colab import files\n",
        "uploaded = files.upload()"
      ],
      "metadata": {
        "colab": {
          "resources": {
            "http://localhost:8080/nbextensions/google.colab/files.js": {
              "data": "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",
              "ok": true,
              "headers": [
                [
                  "content-type",
                  "application/javascript"
                ]
              ],
              "status": 200,
              "status_text": ""
            }
          },
          "base_uri": "https://localhost:8080/",
          "height": 77
        },
        "id": "pZLaDTvD7xe9",
        "outputId": "274a5655-91ec-4bf1-88e5-dd39fadd474d"
      },
      "execution_count": 2,
      "outputs": [
        {
          "output_type": "display_data",
          "data": {
            "text/plain": [
              "<IPython.core.display.HTML object>"
            ],
            "text/html": [
              "\n",
              "     <input type=\"file\" id=\"files-9f6a33a4-6d55-4d5c-b514-5bac020372dd\" name=\"files[]\" multiple disabled\n",
              "        style=\"border:none\" />\n",
              "     <output id=\"result-9f6a33a4-6d55-4d5c-b514-5bac020372dd\">\n",
              "      Upload widget is only available when the cell has been executed in the\n",
              "      current browser session. Please rerun this cell to enable.\n",
              "      </output>\n",
              "      <script src=\"/nbextensions/google.colab/files.js\"></script> "
            ]
          },
          "metadata": {}
        },
        {
          "output_type": "stream",
          "name": "stdout",
          "text": [
            "Saving dp.html to dp.html\n"
          ]
        }
      ]
    },
    {
      "cell_type": "code",
      "execution_count": 3,
      "metadata": {
        "id": "1IjfVkWUF2ZH"
      },
      "outputs": [],
      "source": [
        "# 이전 절에서 다운로드한 파일을 열고 html이라는 변수에 저장\n",
        "with open('dp.html', encoding='utf-8') as f:\n",
        "    html = f.read()"
      ]
    },
    {
      "cell_type": "code",
      "execution_count": 4,
      "metadata": {
        "id": "AtD9DFwDF2ZI",
        "outputId": "b8e22eda-f761-42d1-d615-7d0d7e675247",
        "colab": {
          "base_uri": "https://localhost:8080/"
        }
      },
      "outputs": [
        {
          "output_type": "stream",
          "name": "stdout",
          "text": [
            "url: http://www.hanbit.co.kr/store/books/look.php?p_code=B7026921929\n",
            "title: 파이썬 증권 데이터 분석\n",
            "---\n",
            "url: http://www.hanbit.co.kr/store/books/look.php?p_code=B9609283195\n",
            "title: 혼자 공부하는 첫 프로그래밍 with 파이썬\n",
            "---\n",
            "url: http://www.hanbit.co.kr/store/books/look.php?p_code=B7859887743\n",
            "title: 실전 자바 소프트웨어 개발\n",
            "---\n",
            "url: http://www.hanbit.co.kr/store/books/look.php?p_code=B3126325886\n",
            "title: IT CookBook, 쉽게 배우는 MFC 윈도우 프로그래밍\n",
            "---\n",
            "url: http://www.hanbit.co.kr/store/books/look.php?p_code=B3715221949\n",
            "title: IT CookBook, 인공지능 시대를 위한 컴퓨터 과학 개론\n",
            "---\n",
            "url: http://www.hanbit.co.kr/store/books/look.php?p_code=B3354514449\n",
            "title: 까면서 보는 해부학 만화\n",
            "---\n",
            "url: http://www.hanbit.co.kr/store/books/look.php?p_code=B3055805288\n",
            "title: IT CookBook, 코틀린을 활용한 안드로이드 프로그래밍\n",
            "---\n",
            "url: http://www.hanbit.co.kr/store/books/look.php?p_code=B1789503265\n",
            "title: 뱅크 4.0\n",
            "---\n",
            "url: http://www.hanbit.co.kr/store/books/look.php?p_code=B1047711884\n",
            "title: 클라우드 네이티브\n",
            "---\n",
            "url: http://www.hanbit.co.kr/store/books/look.php?p_code=B4872546419\n",
            "title: IT CookBook, 처음 만나는 신재생에너지\n",
            "---\n",
            "url: http://www.hanbit.co.kr/store/books/look.php?p_code=B1710834745\n",
            "title: 프리드버그 선형대수학\n",
            "---\n",
            "url: http://www.hanbit.co.kr/store/books/look.php?p_code=B9632716381\n",
            "title: 이더리움 디앱 개발\n",
            "---\n",
            "url: http://www.hanbit.co.kr/store/books/look.php?p_code=B7283790591\n",
            "title: 딥러닝과 바둑\n",
            "---\n",
            "url: http://www.hanbit.co.kr/store/books/look.php?p_code=B8151169674\n",
            "title: CIA 요원, 최강 비즈니스맨이 되다\n",
            "---\n",
            "url: http://www.hanbit.co.kr/store/books/look.php?p_code=B3669653041\n",
            "title: 필수 공식으로 하루에 하나씩 정복하는 엑셀 업무 공략집\n",
            "---\n",
            "url: http://www.hanbit.co.kr/store/books/look.php?p_code=B8200129293\n",
            "title: IT CookBook, CentOS 리눅스\n",
            "---\n",
            "url: http://www.hanbit.co.kr/store/books/look.php?p_code=B8912615747\n",
            "title: 2020 부동산 세금 사용설명서\n",
            "---\n",
            "url: http://www.hanbit.co.kr/store/books/look.php?p_code=B6465057927\n",
            "title: 내러티브 앤 넘버스\n",
            "---\n",
            "url: http://www.hanbit.co.kr/store/books/look.php?p_code=B1158791094\n",
            "title: 똑똑한 두뇌 연습 : 세계 여행 다른 그림 찾기\n",
            "---\n",
            "url: http://www.hanbit.co.kr/store/books/look.php?p_code=B3778443233\n",
            "title: 똑똑한 두뇌 연습 : 점 잇기\n",
            "---\n",
            "url: http://www.hanbit.co.kr/store/books/look.php?p_code=B2894027772\n",
            "title: 포스트 코로나\n",
            "---\n",
            "url: http://www.hanbit.co.kr/store/books/look.php?p_code=B8852889897\n",
            "title: 똑똑한 두뇌 연습 100 : 공주, 동물, 색칠 세트\n",
            "---\n",
            "url: http://www.hanbit.co.kr/store/books/look.php?p_code=B3895086770\n",
            "title: 똑똑한 두뇌 연습 100 : 탈것, 동물, 축구 세트\n",
            "---\n",
            "url: http://www.hanbit.co.kr/store/books/look.php?p_code=B4731993755\n",
            "title: 만들면서 배우는 워드프레스 (개정2판)\n",
            "---\n",
            "url: http://www.hanbit.co.kr/store/books/look.php?p_code=B2064300579\n",
            "title: 이것이 MySQL이다(개정판)\n",
            "---\n",
            "url: http://www.hanbit.co.kr/store/books/look.php?p_code=B2926273381\n",
            "title: 미로 마스터 LEVEL2. 미스터리 미로\n",
            "---\n",
            "url: http://www.hanbit.co.kr/store/books/look.php?p_code=B8703048424\n",
            "title: 미로 마스터 LEVEL3. 크레이지 미로\n",
            "---\n",
            "url: http://www.hanbit.co.kr/store/books/look.php?p_code=B6867862379\n",
            "title: 회사에서 바로 통하는 파워포인트 FOR STARTERS\n",
            "---\n",
            "url: http://www.hanbit.co.kr/store/books/look.php?p_code=B7033438574\n",
            "title: 핸즈온 머신러닝(2판)\n",
            "---\n",
            "url: http://www.hanbit.co.kr/store/books/look.php?p_code=B6796857324\n",
            "title: 배워서 바로 쓰는 스프링 프레임워크\n",
            "---\n",
            "url: http://www.hanbit.co.kr/store/books/look.php?p_code=B4068078736\n",
            "title: BPF로 리눅스 관측 가능성 향상하기\n",
            "---\n",
            "url: http://www.hanbit.co.kr/store/books/look.php?p_code=B9883631255\n",
            "title: 4차 인간\n",
            "---\n",
            "url: http://www.hanbit.co.kr/store/books/look.php?p_code=B9839456081\n",
            "title: 할짝 심리학\n",
            "---\n",
            "url: http://www.hanbit.co.kr/store/books/look.php?p_code=B4070147419\n",
            "title: 이것이 안드로이드다 with 코틀린\n",
            "---\n",
            "url: http://www.hanbit.co.kr/store/books/look.php?p_code=B8029392566\n",
            "title: 나는 불평을 그만두기로 했다\n",
            "---\n",
            "url: http://www.hanbit.co.kr/store/books/look.php?p_code=B8977162495\n",
            "title: 오늘도 화내고 말았습니다\n",
            "---\n",
            "url: http://www.hanbit.co.kr/store/books/look.php?p_code=B5218628357\n",
            "title: 배워서 바로 쓰는 스프링 부트 2\n",
            "---\n",
            "url: http://www.hanbit.co.kr/store/books/look.php?p_code=B9288599157\n",
            "title: 학교에서 알려주지 않는 17가지 실무 개발 기술\n",
            "---\n",
            "url: http://www.hanbit.co.kr/store/books/look.php?p_code=B8529915277\n",
            "title: 이것이 리눅스다 (개정판) with RedHat CentOS 8\n",
            "---\n",
            "url: http://www.hanbit.co.kr/store/books/look.php?p_code=B6634694521\n",
            "title: 회사에서 바로 통하는  실무 엑셀+파워포인트+워드&한글(개정판)\n",
            "---\n",
            "url: http://www.hanbit.co.kr/store/books/look.php?p_code=B8958054405\n",
            "title: 은밀한 설계자들\n",
            "---\n",
            "url: http://www.hanbit.co.kr/store/books/look.php?p_code=B3156242562\n",
            "title: 줄리아를 생각하다\n",
            "---\n",
            "url: http://www.hanbit.co.kr/store/books/look.php?p_code=B7546247400\n",
            "title: 타겟티드\n",
            "---\n",
            "url: http://www.hanbit.co.kr/store/books/look.php?p_code=B2049588591\n",
            "title: 누구나 파이썬 통계분석\n",
            "---\n",
            "url: http://www.hanbit.co.kr/store/books/look.php?p_code=B7581841106\n",
            "title: 이기적 유인원\n",
            "---\n",
            "url: http://www.hanbit.co.kr/store/books/look.php?p_code=B1047898750\n",
            "title: 미로 마스터 LEVEL1. 세계 미로 대탈출\n",
            "---\n",
            "url: http://www.hanbit.co.kr/store/books/look.php?p_code=B7950687023\n",
            "title: 미로 마스터 LEVEL1. 우주 미로 대탈출\n",
            "---\n",
            "url: http://www.hanbit.co.kr/store/books/look.php?p_code=B7098934359\n",
            "title: 80년생 김 팀장과 90년생 이 대리가 웃으며 일하는 법\n",
            "---\n",
            "url: http://www.hanbit.co.kr/store/books/look.php?p_code=B6952616555\n",
            "title: 리팩터링 2판 (리팩토링 개정판)\n",
            "---\n",
            "url: http://www.hanbit.co.kr/store/books/look.php?p_code=B8433172390\n",
            "title: 가설이 무기가 된다\n",
            "---\n"
          ]
        }
      ],
      "source": [
        "# re.findall() 메서드를 통해 도서 하나에 해당하는 HTML을 추출\n",
        "for partial_html in re.findall(r'<td class=\"left\"><a.*?</td>', html, re.DOTALL):\n",
        "    # 도서의 URL을 추출\n",
        "    url = re.search(r'<a href=\"(.*?)\">', partial_html).group(1)\n",
        "    url = 'http://www.hanbit.co.kr' + url\n",
        "    # 태그를 제거해서 도서의 제목을 추출\n",
        "    title = re.sub(r'<.*?>', '', partial_html)\n",
        "    title = unescape(title)\n",
        "    print('url:', url)\n",
        "    print('title:', title)\n",
        "    print('---')"
      ]
    },
    {
      "cell_type": "code",
      "execution_count": null,
      "metadata": {
        "id": "EXMNvTseF2ZJ"
      },
      "outputs": [],
      "source": [
        ""
      ]
    }
  ],
  "metadata": {
    "kernelspec": {
      "display_name": "Python 3",
      "language": "python",
      "name": "python3"
    },
    "language_info": {
      "codemirror_mode": {
        "name": "ipython",
        "version": 3
      },
      "file_extension": ".py",
      "mimetype": "text/x-python",
      "name": "python",
      "nbconvert_exporter": "python",
      "pygments_lexer": "ipython3",
      "version": "3.7.3"
    },
    "colab": {
      "name": "엄지수_실습(2)scrape_re.ipynb",
      "provenance": [],
      "collapsed_sections": [],
      "include_colab_link": true
    }
  },
  "nbformat": 4,
  "nbformat_minor": 0
}